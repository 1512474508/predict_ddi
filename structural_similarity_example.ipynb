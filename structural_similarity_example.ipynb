{
 "cells": [
  {
   "cell_type": "code",
   "execution_count": 1,
   "metadata": {},
   "outputs": [],
   "source": [
    "import pandas as pd\n",
    "import pybel"
   ]
  },
  {
   "cell_type": "code",
   "execution_count": 2,
   "metadata": {},
   "outputs": [],
   "source": [
    "drugName2smiles = pd.read_pickle('../data/example.pkl')"
   ]
  },
  {
   "cell_type": "code",
   "execution_count": 3,
   "metadata": {},
   "outputs": [],
   "source": [
    "drugName2fp = {}\n",
    "for drug, smiles in drugName2smiles.items():\n",
    "    mol = pybel.readstring('smi', smiles)\n",
    "    fp = mol.calcfp() # convert SMILES to fingerprint\n",
    "    drugName2fp[drug] = fp"
   ]
  },
  {
   "cell_type": "code",
   "execution_count": 4,
   "metadata": {},
   "outputs": [],
   "source": [
    "all_drugs = list(drugName2smiles.keys())\n",
    "drugPair2SS = {}\n",
    "for i, drug1 in enumerate(all_drugs):\n",
    "    for drug2 in all_drugs[i:]:\n",
    "        fp1 = drugName2fp[drug1]\n",
    "        fp2 = drugName2fp[drug2]        \n",
    "        sim = fp1 | fp2 # calculate tanimoto coefficient\n",
    "        drugPair2SS[(drug1, drug2)] = sim\n",
    "        drugPair2SS[(drug2, drug1)] = sim"
   ]
  },
  {
   "cell_type": "code",
   "execution_count": null,
   "metadata": {},
   "outputs": [],
   "source": []
  }
 ],
 "metadata": {
  "kernelspec": {
   "display_name": "Python 3",
   "language": "python",
   "name": "python3"
  },
  "language_info": {
   "codemirror_mode": {
    "name": "ipython",
    "version": 3
   },
   "file_extension": ".py",
   "mimetype": "text/x-python",
   "name": "python",
   "nbconvert_exporter": "python",
   "pygments_lexer": "ipython3",
   "version": "3.6.8"
  }
 },
 "nbformat": 4,
 "nbformat_minor": 4
}
