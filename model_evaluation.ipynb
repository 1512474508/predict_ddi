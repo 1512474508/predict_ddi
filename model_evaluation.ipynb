{
 "cells": [
  {
   "cell_type": "code",
   "execution_count": null,
   "metadata": {},
   "outputs": [],
   "source": [
    "import torch\n",
    "import numpy as np\n",
    "import pandas as pd\n",
    "import json\n",
    "\n",
    "from src.model import build_model\n",
    "from src.utils import convert_tensor, evaluate_model"
   ]
  },
  {
   "cell_type": "code",
   "execution_count": null,
   "metadata": {
    "scrolled": true
   },
   "outputs": [],
   "source": [
    "with open('./data/hyperparameter.json') as fp:\n",
    "    hparam = json.load(fp)"
   ]
  },
  {
   "cell_type": "code",
   "execution_count": null,
   "metadata": {
    "scrolled": true
   },
   "outputs": [],
   "source": [
    "test_data = pd.read_pickle('./savepoints/0/test_data.pkl')\n",
    "x = test_data[0]\n",
    "y = test_data[1]"
   ]
  },
  {
   "cell_type": "code",
   "execution_count": null,
   "metadata": {},
   "outputs": [],
   "source": [
    "SS_mat = pd.read_pickle('./data/structural_similarity_matrix.pkl')\n",
    "TS_mat = pd.read_pickle('./data/target_similarity_matrix.pkl')\n",
    "GS_mat = pd.read_pickle('./data/GO_similarity_matrix.pkl')"
   ]
  },
  {
   "cell_type": "code",
   "execution_count": null,
   "metadata": {},
   "outputs": [],
   "source": [
    "mlb = pd.read_pickle('./data/mlb.pkl')\n",
    "idx2label = pd.read_pickle('./data/idx2label.pkl')"
   ]
  },
  {
   "cell_type": "code",
   "execution_count": null,
   "metadata": {},
   "outputs": [],
   "source": [
    "SS, TS, GS, y = convert_tensor(x, y, SS_mat, TS_mat, GS_mat, mlb, idx2label)\n",
    "y = y.int().numpy()"
   ]
  },
  {
   "cell_type": "code",
   "execution_count": null,
   "metadata": {
    "scrolled": true
   },
   "outputs": [],
   "source": [
    "model = build_model(hparam)\n",
    "model.load_model('./savepoints/0/model_checkpoint')\n",
    "model.eval()"
   ]
  },
  {
   "cell_type": "code",
   "execution_count": null,
   "metadata": {},
   "outputs": [],
   "source": [
    "with torch.no_grad():\n",
    "    _, _, _, pred = model(SS, TS, GS)\n",
    "    pred = torch.sigmoid(pred) > 0.5    \n",
    "    pred = pred.int().numpy()"
   ]
  },
  {
   "cell_type": "code",
   "execution_count": null,
   "metadata": {},
   "outputs": [],
   "source": [
    "acc, ma_rc, ma_pc, mi_rc, mi_pc = evaluate_model(y, pred)"
   ]
  },
  {
   "cell_type": "code",
   "execution_count": null,
   "metadata": {
    "scrolled": false
   },
   "outputs": [],
   "source": [
    "print(f'Accuracy: {acc}\\nMacro recall: {ma_rc}\\nMacro_precision: {ma_pc}\\nMicro_recall: {mi_rc}\\nMicro_precision: {mi_pc}')"
   ]
  },
  {
   "cell_type": "code",
   "execution_count": null,
   "metadata": {},
   "outputs": [],
   "source": []
  },
  {
   "cell_type": "code",
   "execution_count": null,
   "metadata": {},
   "outputs": [],
   "source": []
  }
 ],
 "metadata": {
  "kernelspec": {
   "display_name": "Python 3",
   "language": "python",
   "name": "python3"
  },
  "language_info": {
   "codemirror_mode": {
    "name": "ipython",
    "version": 3
   },
   "file_extension": ".py",
   "mimetype": "text/x-python",
   "name": "python",
   "nbconvert_exporter": "python",
   "pygments_lexer": "ipython3",
   "version": "3.6.8"
  }
 },
 "nbformat": 4,
 "nbformat_minor": 2
}
